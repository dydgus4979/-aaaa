{
  "nbformat": 4,
  "nbformat_minor": 0,
  "metadata": {
    "colab": {
      "name": "Untitled0.ipynb",
      "provenance": [],
      "authorship_tag": "ABX9TyOnV+7iWzSQ7stWYyKo9Aq8",
      "include_colab_link": true
    },
    "kernelspec": {
      "name": "python3",
      "display_name": "Python 3"
    },
    "language_info": {
      "name": "python"
    }
  },
  "cells": [
    {
      "cell_type": "markdown",
      "metadata": {
        "id": "view-in-github",
        "colab_type": "text"
      },
      "source": [
        "<a href=\"https://colab.research.google.com/github/dydgus4979/-aaaa/blob/master/Untitled0.ipynb\" target=\"_parent\"><img src=\"https://colab.research.google.com/assets/colab-badge.svg\" alt=\"Open In Colab\"/></a>"
      ]
    },
    {
      "cell_type": "code",
      "execution_count": 8,
      "metadata": {
        "colab": {
          "base_uri": "https://localhost:8080/"
        },
        "id": "sz2F_0DoqwEZ",
        "outputId": "b209c6b1-3d20-471d-a0eb-0070e46ddda6"
      },
      "outputs": [
        {
          "output_type": "stream",
          "name": "stdout",
          "text": [
            "26\n",
            "4\n"
          ]
        }
      ],
      "source": [
        "a = int(input())\n",
        "num = a\n",
        "start_num = a\n",
        "C = 0\n",
        "\n",
        "while True:\n",
        "    t = start_num\n",
        "    a = num // 10\n",
        "    b = num % 10\n",
        "    c = (a+b) % 10\n",
        "    num = (b*10)+c\n",
        "    \n",
        "    C = C+1\n",
        "    if(num==t):\n",
        "      break;\n",
        "        \n",
        "print(C)"
      ]
    },
    {
      "cell_type": "code",
      "source": [
        ""
      ],
      "metadata": {
        "id": "TAlZ7pCaqyut"
      },
      "execution_count": null,
      "outputs": []
    }
  ]
}